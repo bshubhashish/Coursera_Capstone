{
 "cells": [
  {
   "cell_type": "markdown",
   "id": "2ad2be2f",
   "metadata": {},
   "source": [
    "## Comparison of 2 cities - Chennai & Mumbai\n",
    "Shubhashish Banerjee, 20/June/2021\n",
    "\n",
    " \n",
    "### Introduction \n",
    "Chennai and Mumbai - both are large coastal metroplitan cities in India with lot of history. Having lived in both of these cities, its a pleasure to use data science techniques to illustrate similarities and differences within these cities. Both the cities have their unique lifestyle, types of industries, economical drivers and lifestyle of people. \n",
    "\n",
    "\n",
    "### Business Problem description\n",
    "The comparison will show how these two large metropolitan cities are different and what are the similarities. We will use available data from the web to identify major clusters in the city and use that information to create a point of view about the kind of economy may florish or be better suited for these two cities.  \n",
    "\n",
    "\n",
    "### Data \n",
    "There are 2 sources of data that would be used for this study:\n",
    "\n",
    "**#1. Location, Area and their geographical coordinates :** \n",
    "This data would be sourced from Wiki location pages of both cities. This information is present in tabular forms on both wiki pages. We will scrape it and use that to join with the 2nd data item. We will use the location information to generate map visual to visualize the spread and then to show clusters within each city. \n",
    "\n",
    "[Chennai Areas](https://en.wikipedia.org/wiki/List_of_neighbourhoods_of_Chennai)\n",
    "\n",
    "[Mumbai Areas](https://en.wikipedia.org/wiki/List_of_neighbourhoods_in_Mumbai)\n",
    "\n",
    "**#2. FourSquare venue locations :**\n",
    "This data would be sourced from FourSquare by querying thru a developer API. This will be be joined with the data item #1 for analysis. After joining, the collected data would be transformed and encoded so that k-Means (from sklearn library) algotihm can be used to bifurcate clusters within each city.\n",
    "\n",
    "[Developer API of FourSquare](https://api.foursquare.com/)\n",
    "\n",
    "\n",
    "\n",
    "\n"
   ]
  }
 ],
 "metadata": {
  "kernelspec": {
   "display_name": "Python 3",
   "language": "python",
   "name": "python3"
  },
  "language_info": {
   "codemirror_mode": {
    "name": "ipython",
    "version": 3
   },
   "file_extension": ".py",
   "mimetype": "text/x-python",
   "name": "python",
   "nbconvert_exporter": "python",
   "pygments_lexer": "ipython3",
   "version": "3.8.5"
  }
 },
 "nbformat": 4,
 "nbformat_minor": 5
}
